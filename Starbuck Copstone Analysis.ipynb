{
 "cells": [
  {
   "cell_type": "markdown",
   "id": "8da02187",
   "metadata": {},
   "source": [
    "# Starbucks Capstone Challenge\n",
    "\n",
    "### Introduction\n",
    "\n",
    "This data set contains simulated data that mimics customer behavior on the Starbucks rewards mobile app. Once every few days, Starbucks sends out an offer to users of the mobile app. An offer can be merely an advertisement for a drink or an actual offer such as a discount or BOGO (buy one get one free). Some users might not receive any offer during certain weeks. \n",
    "\n",
    "Not all users receive the same offer, and that is the challenge to solve with this data set.\n",
    "\n",
    "Your task is to combine transaction, demographic and offer data to determine which demographic groups respond best to which offer type. This data set is a simplified version of the real Starbucks app because the underlying simulator only has one product whereas Starbucks actually sells dozens of products.\n",
    "\n",
    "Every offer has a validity period before the offer expires. As an example, a BOGO offer might be valid for only 5 days. You'll see in the data set that informational offers have a validity period even though these ads are merely providing information about a product; for example, if an informational offer has 7 days of validity, you can assume the customer is feeling the influence of the offer for 7 days after receiving the advertisement.\n",
    "\n",
    "You'll be given transactional data showing user purchases made on the app including the timestamp of purchase and the amount of money spent on a purchase. This transactional data also has a record for each offer that a user receives as well as a record for when a user actually views the offer. There are also records for when a user completes an offer. \n",
    "\n",
    "Keep in mind as well that someone using the app might make a purchase through the app without having received an offer or seen an offer.\n",
    "\n",
    "### Example\n",
    "\n",
    "To give an example, a user could receive a discount offer buy 10 dollars get 2 off on Monday. The offer is valid for 10 days from receipt. If the customer accumulates at least 10 dollars in purchases during the validity period, the customer completes the offer.\n",
    "\n",
    "However, there are a few things to watch out for in this data set. Customers do not opt into the offers that they receive; in other words, a user can receive an offer, never actually view the offer, and still complete the offer. For example, a user might receive the \"buy 10 dollars get 2 dollars off offer\", but the user never opens the offer during the 10 day validity period. The customer spends 15 dollars during those ten days. There will be an offer completion record in the data set; however, the customer was not influenced by the offer because the customer never viewed the offer.\n",
    "\n",
    "### Cleaning\n",
    "\n",
    "This makes data cleaning especially important and tricky.\n",
    "\n",
    "You'll also want to take into account that some demographic groups will make purchases even if they don't receive an offer. From a business perspective, if a customer is going to make a 10 dollar purchase without an offer anyway, you wouldn't want to send a buy 10 dollars get 2 dollars off offer. You'll want to try to assess what a certain demographic group will buy when not receiving any offers.\n",
    "\n",
    "### Final Advice\n",
    "\n",
    "Because this is a capstone project, you are free to analyze the data any way you see fit. For example, you could build a machine learning model that predicts how much someone will spend based on demographics and offer type. Or you could build a model that predicts whether or not someone will respond to an offer. Or, you don't need to build a machine learning model at all. You could develop a set of heuristics that determine what offer you should send to each customer (i.e., 75 percent of women customers who were 35 years old responded to offer A vs 40 percent from the same demographic to offer B, so send offer A)."
   ]
  },
  {
   "cell_type": "markdown",
   "id": "a3417a88",
   "metadata": {},
   "source": [
    "# Data Sets\n",
    "\n",
    "The data is contained in three files:\n",
    "\n",
    "* portfolio.json - containing offer ids and meta data about each offer (duration, type, etc.)\n",
    "* profile.json - demographic data for each customer\n",
    "* transcript.json - records for transactions, offers received, offers viewed, and offers completed\n",
    "\n",
    "Here is the schema and explanation of each variable in the files:\n",
    "\n",
    "**portfolio.json**\n",
    "* id (string) - offer id\n",
    "* offer_type (string) - type of offer ie BOGO, discount, informational\n",
    "* difficulty (int) - minimum required spend to complete an offer\n",
    "* reward (int) - reward given for completing an offer\n",
    "* duration (int) - time for offer to be open, in days\n",
    "* channels (list of strings)\n",
    "\n",
    "**profile.json**\n",
    "* age (int) - age of the customer \n",
    "* became_member_on (int) - date when customer created an app account\n",
    "* gender (str) - gender of the customer (note some entries contain 'O' for other rather than M or F)\n",
    "* id (str) - customer id\n",
    "* income (float) - customer's income\n",
    "\n",
    "**transcript.json**\n",
    "* event (str) - record description (ie transaction, offer received, offer viewed, etc.)\n",
    "* person (str) - customer id\n",
    "* time (int) - time in hours since start of test. The data begins at time t=0\n",
    "* value - (dict of strings) - either an offer id or transaction amount depending on the record\n",
    "\n",
    "**Note:** If you are using the workspace, you will need to go to the terminal and run the command `conda update pandas` before reading in the files. This is because the version of pandas in the workspace cannot read in the transcript.json file correctly, but the newest version of pandas can. You can access the termnal from the orange icon in the top left of this notebook.  \n",
    "\n",
    "You can see how to access the terminal and how the install works using the two images below.  First you need to access the terminal:\n",
    "\n",
    "<img src=\"pic1.png\"/>\n",
    "\n",
    "Then you will want to run the above command:\n",
    "\n",
    "<img src=\"pic2.png\"/>\n",
    "\n",
    "Finally, when you enter back into the notebook (use the jupyter icon again), you should be able to run the below cell without any errors."
   ]
  },
  {
   "cell_type": "markdown",
   "id": "f8b9e4b5",
   "metadata": {},
   "source": [
    "In this post, I will analyze the Starbucks Dataset using the CRISP-DM Process. I will aim to answer a few business questions, by exploring the dataset using Data Visualization, and Modeling. The questions that I am interested in exploring are:\n",
    "\n",
    "1. How does Gender influence how much someone spends at Starbucks? Do men spend more than women, or the other way around?\n",
    "2. How many people view and complete offers? And how many people complete offers without opening them first?\n",
    "3. What are the attributes that most contribute to someone's spending habits at Starbucks?\n",
    "\n",
    "These questions help us with a *Business Understanding* of the domain."
   ]
  },
  {
   "cell_type": "markdown",
   "id": "cb8e13a7",
   "metadata": {},
   "source": [
    "Let's start by first importing the required packages, and loading the datasets."
   ]
  },
  {
   "cell_type": "code",
   "execution_count": 1,
   "id": "0216cec0",
   "metadata": {},
   "outputs": [],
   "source": [
    "import pandas as pd\n",
    "import numpy as np\n",
    "import math\n",
    "import json\n",
    "import seaborn as sns\n",
    "import matplotlib.pyplot as plt\n",
    "\n",
    "from sklearn.model_selection import train_test_split;\n",
    "from sklearn.preprocessing import StandardScaler;\n",
    "from sklearn.svm import SVR;\n",
    "from sklearn.model_selection import GridSearchCV;\n",
    "from sklearn.metrics import r2_score;\n",
    "from sklearn.ensemble import RandomForestRegressor;\n",
    "\n",
    "%matplotlib inline\n",
    "\n",
    "# read in the json files\n",
    "portfolio = pd.read_json('data/portfolio.json', orient='records', lines=True)\n",
    "profile = pd.read_json('data/profile.json', orient='records', lines=True)\n",
    "transcript = pd.read_json('data/transcript.json', orient='records', lines=True)"
   ]
  },
  {
   "cell_type": "markdown",
   "id": "a7d2770c",
   "metadata": {},
   "source": [
    "### Exploring the Data\n",
    "\n",
    "We'll look at these datasets by printing out the first few rows of each."
   ]
  },
  {
   "cell_type": "code",
   "execution_count": 2,
   "id": "33a0d80c",
   "metadata": {},
   "outputs": [
    {
     "data": {
      "text/html": [
       "<div>\n",
       "<style scoped>\n",
       "    .dataframe tbody tr th:only-of-type {\n",
       "        vertical-align: middle;\n",
       "    }\n",
       "\n",
       "    .dataframe tbody tr th {\n",
       "        vertical-align: top;\n",
       "    }\n",
       "\n",
       "    .dataframe thead th {\n",
       "        text-align: right;\n",
       "    }\n",
       "</style>\n",
       "<table border=\"1\" class=\"dataframe\">\n",
       "  <thead>\n",
       "    <tr style=\"text-align: right;\">\n",
       "      <th></th>\n",
       "      <th>reward</th>\n",
       "      <th>channels</th>\n",
       "      <th>difficulty</th>\n",
       "      <th>duration</th>\n",
       "      <th>offer_type</th>\n",
       "      <th>id</th>\n",
       "    </tr>\n",
       "  </thead>\n",
       "  <tbody>\n",
       "    <tr>\n",
       "      <th>0</th>\n",
       "      <td>10</td>\n",
       "      <td>[email, mobile, social]</td>\n",
       "      <td>10</td>\n",
       "      <td>7</td>\n",
       "      <td>bogo</td>\n",
       "      <td>ae264e3637204a6fb9bb56bc8210ddfd</td>\n",
       "    </tr>\n",
       "    <tr>\n",
       "      <th>1</th>\n",
       "      <td>10</td>\n",
       "      <td>[web, email, mobile, social]</td>\n",
       "      <td>10</td>\n",
       "      <td>5</td>\n",
       "      <td>bogo</td>\n",
       "      <td>4d5c57ea9a6940dd891ad53e9dbe8da0</td>\n",
       "    </tr>\n",
       "    <tr>\n",
       "      <th>2</th>\n",
       "      <td>0</td>\n",
       "      <td>[web, email, mobile]</td>\n",
       "      <td>0</td>\n",
       "      <td>4</td>\n",
       "      <td>informational</td>\n",
       "      <td>3f207df678b143eea3cee63160fa8bed</td>\n",
       "    </tr>\n",
       "    <tr>\n",
       "      <th>3</th>\n",
       "      <td>5</td>\n",
       "      <td>[web, email, mobile]</td>\n",
       "      <td>5</td>\n",
       "      <td>7</td>\n",
       "      <td>bogo</td>\n",
       "      <td>9b98b8c7a33c4b65b9aebfe6a799e6d9</td>\n",
       "    </tr>\n",
       "    <tr>\n",
       "      <th>4</th>\n",
       "      <td>5</td>\n",
       "      <td>[web, email]</td>\n",
       "      <td>20</td>\n",
       "      <td>10</td>\n",
       "      <td>discount</td>\n",
       "      <td>0b1e1539f2cc45b7b9fa7c272da2e1d7</td>\n",
       "    </tr>\n",
       "  </tbody>\n",
       "</table>\n",
       "</div>"
      ],
      "text/plain": [
       "   reward                      channels  difficulty  duration     offer_type  \\\n",
       "0      10       [email, mobile, social]          10         7           bogo   \n",
       "1      10  [web, email, mobile, social]          10         5           bogo   \n",
       "2       0          [web, email, mobile]           0         4  informational   \n",
       "3       5          [web, email, mobile]           5         7           bogo   \n",
       "4       5                  [web, email]          20        10       discount   \n",
       "\n",
       "                                 id  \n",
       "0  ae264e3637204a6fb9bb56bc8210ddfd  \n",
       "1  4d5c57ea9a6940dd891ad53e9dbe8da0  \n",
       "2  3f207df678b143eea3cee63160fa8bed  \n",
       "3  9b98b8c7a33c4b65b9aebfe6a799e6d9  \n",
       "4  0b1e1539f2cc45b7b9fa7c272da2e1d7  "
      ]
     },
     "execution_count": 2,
     "metadata": {},
     "output_type": "execute_result"
    }
   ],
   "source": [
    "portfolio.head()"
   ]
  },
  {
   "cell_type": "code",
   "execution_count": 3,
   "id": "2a82f0f8",
   "metadata": {},
   "outputs": [
    {
     "data": {
      "text/html": [
       "<div>\n",
       "<style scoped>\n",
       "    .dataframe tbody tr th:only-of-type {\n",
       "        vertical-align: middle;\n",
       "    }\n",
       "\n",
       "    .dataframe tbody tr th {\n",
       "        vertical-align: top;\n",
       "    }\n",
       "\n",
       "    .dataframe thead th {\n",
       "        text-align: right;\n",
       "    }\n",
       "</style>\n",
       "<table border=\"1\" class=\"dataframe\">\n",
       "  <thead>\n",
       "    <tr style=\"text-align: right;\">\n",
       "      <th></th>\n",
       "      <th>gender</th>\n",
       "      <th>age</th>\n",
       "      <th>id</th>\n",
       "      <th>became_member_on</th>\n",
       "      <th>income</th>\n",
       "    </tr>\n",
       "  </thead>\n",
       "  <tbody>\n",
       "    <tr>\n",
       "      <th>0</th>\n",
       "      <td>None</td>\n",
       "      <td>118</td>\n",
       "      <td>68be06ca386d4c31939f3a4f0e3dd783</td>\n",
       "      <td>20170212</td>\n",
       "      <td>NaN</td>\n",
       "    </tr>\n",
       "    <tr>\n",
       "      <th>1</th>\n",
       "      <td>F</td>\n",
       "      <td>55</td>\n",
       "      <td>0610b486422d4921ae7d2bf64640c50b</td>\n",
       "      <td>20170715</td>\n",
       "      <td>112000.0</td>\n",
       "    </tr>\n",
       "    <tr>\n",
       "      <th>2</th>\n",
       "      <td>None</td>\n",
       "      <td>118</td>\n",
       "      <td>38fe809add3b4fcf9315a9694bb96ff5</td>\n",
       "      <td>20180712</td>\n",
       "      <td>NaN</td>\n",
       "    </tr>\n",
       "    <tr>\n",
       "      <th>3</th>\n",
       "      <td>F</td>\n",
       "      <td>75</td>\n",
       "      <td>78afa995795e4d85b5d9ceeca43f5fef</td>\n",
       "      <td>20170509</td>\n",
       "      <td>100000.0</td>\n",
       "    </tr>\n",
       "    <tr>\n",
       "      <th>4</th>\n",
       "      <td>None</td>\n",
       "      <td>118</td>\n",
       "      <td>a03223e636434f42ac4c3df47e8bac43</td>\n",
       "      <td>20170804</td>\n",
       "      <td>NaN</td>\n",
       "    </tr>\n",
       "  </tbody>\n",
       "</table>\n",
       "</div>"
      ],
      "text/plain": [
       "  gender  age                                id  became_member_on    income\n",
       "0   None  118  68be06ca386d4c31939f3a4f0e3dd783          20170212       NaN\n",
       "1      F   55  0610b486422d4921ae7d2bf64640c50b          20170715  112000.0\n",
       "2   None  118  38fe809add3b4fcf9315a9694bb96ff5          20180712       NaN\n",
       "3      F   75  78afa995795e4d85b5d9ceeca43f5fef          20170509  100000.0\n",
       "4   None  118  a03223e636434f42ac4c3df47e8bac43          20170804       NaN"
      ]
     },
     "execution_count": 3,
     "metadata": {},
     "output_type": "execute_result"
    }
   ],
   "source": [
    "profile.head()"
   ]
  },
  {
   "cell_type": "code",
   "execution_count": 4,
   "id": "e393b415",
   "metadata": {},
   "outputs": [
    {
     "data": {
      "text/html": [
       "<div>\n",
       "<style scoped>\n",
       "    .dataframe tbody tr th:only-of-type {\n",
       "        vertical-align: middle;\n",
       "    }\n",
       "\n",
       "    .dataframe tbody tr th {\n",
       "        vertical-align: top;\n",
       "    }\n",
       "\n",
       "    .dataframe thead th {\n",
       "        text-align: right;\n",
       "    }\n",
       "</style>\n",
       "<table border=\"1\" class=\"dataframe\">\n",
       "  <thead>\n",
       "    <tr style=\"text-align: right;\">\n",
       "      <th></th>\n",
       "      <th>person</th>\n",
       "      <th>event</th>\n",
       "      <th>value</th>\n",
       "      <th>time</th>\n",
       "    </tr>\n",
       "  </thead>\n",
       "  <tbody>\n",
       "    <tr>\n",
       "      <th>0</th>\n",
       "      <td>78afa995795e4d85b5d9ceeca43f5fef</td>\n",
       "      <td>offer received</td>\n",
       "      <td>{'offer id': '9b98b8c7a33c4b65b9aebfe6a799e6d9'}</td>\n",
       "      <td>0</td>\n",
       "    </tr>\n",
       "    <tr>\n",
       "      <th>1</th>\n",
       "      <td>a03223e636434f42ac4c3df47e8bac43</td>\n",
       "      <td>offer received</td>\n",
       "      <td>{'offer id': '0b1e1539f2cc45b7b9fa7c272da2e1d7'}</td>\n",
       "      <td>0</td>\n",
       "    </tr>\n",
       "    <tr>\n",
       "      <th>2</th>\n",
       "      <td>e2127556f4f64592b11af22de27a7932</td>\n",
       "      <td>offer received</td>\n",
       "      <td>{'offer id': '2906b810c7d4411798c6938adc9daaa5'}</td>\n",
       "      <td>0</td>\n",
       "    </tr>\n",
       "    <tr>\n",
       "      <th>3</th>\n",
       "      <td>8ec6ce2a7e7949b1bf142def7d0e0586</td>\n",
       "      <td>offer received</td>\n",
       "      <td>{'offer id': 'fafdcd668e3743c1bb461111dcafc2a4'}</td>\n",
       "      <td>0</td>\n",
       "    </tr>\n",
       "    <tr>\n",
       "      <th>4</th>\n",
       "      <td>68617ca6246f4fbc85e91a2a49552598</td>\n",
       "      <td>offer received</td>\n",
       "      <td>{'offer id': '4d5c57ea9a6940dd891ad53e9dbe8da0'}</td>\n",
       "      <td>0</td>\n",
       "    </tr>\n",
       "  </tbody>\n",
       "</table>\n",
       "</div>"
      ],
      "text/plain": [
       "                             person           event  \\\n",
       "0  78afa995795e4d85b5d9ceeca43f5fef  offer received   \n",
       "1  a03223e636434f42ac4c3df47e8bac43  offer received   \n",
       "2  e2127556f4f64592b11af22de27a7932  offer received   \n",
       "3  8ec6ce2a7e7949b1bf142def7d0e0586  offer received   \n",
       "4  68617ca6246f4fbc85e91a2a49552598  offer received   \n",
       "\n",
       "                                              value  time  \n",
       "0  {'offer id': '9b98b8c7a33c4b65b9aebfe6a799e6d9'}     0  \n",
       "1  {'offer id': '0b1e1539f2cc45b7b9fa7c272da2e1d7'}     0  \n",
       "2  {'offer id': '2906b810c7d4411798c6938adc9daaa5'}     0  \n",
       "3  {'offer id': 'fafdcd668e3743c1bb461111dcafc2a4'}     0  \n",
       "4  {'offer id': '4d5c57ea9a6940dd891ad53e9dbe8da0'}     0  "
      ]
     },
     "execution_count": 4,
     "metadata": {},
     "output_type": "execute_result"
    }
   ],
   "source": [
    "transcript.head()"
   ]
  },
  {
   "cell_type": "markdown",
   "id": "1525b7d0",
   "metadata": {},
   "source": [
    "We'll now visualize these datasets by plotting correlation plots in Portfolio and Profile."
   ]
  },
  {
   "cell_type": "code",
   "execution_count": 5,
   "id": "d27e3c9e",
   "metadata": {},
   "outputs": [
    {
     "name": "stderr",
     "output_type": "stream",
     "text": [
      "C:\\Users\\agusa\\anaconda3\\lib\\site-packages\\seaborn\\distributions.py:306: UserWarning: Dataset has 0 variance; skipping density estimate.\n",
      "  warnings.warn(msg, UserWarning)\n",
      "C:\\Users\\agusa\\anaconda3\\lib\\site-packages\\seaborn\\distributions.py:306: UserWarning: Dataset has 0 variance; skipping density estimate.\n",
      "  warnings.warn(msg, UserWarning)\n"
     ]
    },
    {
     "data": {
      "text/plain": [
       "<seaborn.axisgrid.PairGrid at 0x2191c32bfa0>"
      ]
     },
     "execution_count": 5,
     "metadata": {},
     "output_type": "execute_result"
    },
    {
     "data": {
      "image/png": "[encoded data removed]",
      "text/plain": [
       "<Figure size 642.75x540 with 12 Axes>"
      ]
     },
     "metadata": {
      "needs_background": "light"
     },
     "output_type": "display_data"
    }
   ],
   "source": [
    "sns.pairplot(portfolio, hue='offer_type')"
   ]
  },
  {
   "cell_type": "code",
   "execution_count": 6,
   "id": "7ac58cf5",
   "metadata": {},
   "outputs": [
    {
     "data": {
      "text/plain": [
       "<seaborn.axisgrid.PairGrid at 0x2193c26ccd0>"
      ]
     },
     "execution_count": 6,
     "metadata": {},
     "output_type": "execute_result"
    },
    {
     "data": {
      "image/png": "[encoded data removed]",
      "text/plain": [
       "<Figure size 584.625x540 with 12 Axes>"
      ]
     },
     "metadata": {
      "needs_background": "light"
     },
     "output_type": "display_data"
    }
   ],
   "source": [
    "sns.pairplot(profile.dropna(), hue='gender')"
   ]
  },
  {
   "cell_type": "markdown",
   "id": "3ab1c3b5",
   "metadata": {},
   "source": [
    "There is a lot of data for the Profiles, and we can see some interesting trends from it. For instance, in terms of **age**, most female purchasers tend to be younger than most male purchasers.\n",
    "\n",
    "To explore the Transcript dataset, I'll look at the distribution of the types of offers that people respond to. I will plot the channels corresponding to the offers, and the type of offer they are."
   ]
  },
  {
   "cell_type": "code",
   "execution_count": 7,
   "id": "5bd7a65b",
   "metadata": {},
   "outputs": [],
   "source": [
    "# Replace missing offer id's with 0\n",
    "all_offers = transcript.value.apply(lambda x: x['offer id'] if 'offer id' in x else 0).values\n",
    "all_offers = all_offers[all_offers != 0];\n",
    "portfolio_group = portfolio.groupby('id')[['offer_type', 'channels']];\n",
    "\n",
    "# Flatten the channel names into an array\n",
    "all_channels = [portfolio_group.get_group(ide).values[0][1] for ide in all_offers];\n",
    "all_channels = [row for subrow in all_channels for row in subrow]\n",
    "\n",
    "# Flatten the offer types into an array\n",
    "all_types = [portfolio_group.get_group(ide).values[0][0] for ide in all_offers];\n",
    "del all_offers, portfolio_group"
   ]
  },
  {
   "cell_type": "code",
   "execution_count": 8,
   "id": "5147590b",
   "metadata": {},
   "outputs": [
    {
     "name": "stderr",
     "output_type": "stream",
     "text": [
      "C:\\Users\\agusa\\anaconda3\\lib\\site-packages\\seaborn\\_decorators.py:36: FutureWarning: Pass the following variable as a keyword arg: x. From version 0.12, the only valid positional argument will be `data`, and passing other arguments without an explicit keyword will result in an error or misinterpretation.\n",
      "  warnings.warn(\n",
      "C:\\Users\\agusa\\anaconda3\\lib\\site-packages\\seaborn\\_decorators.py:36: FutureWarning: Pass the following variable as a keyword arg: x. From version 0.12, the only valid positional argument will be `data`, and passing other arguments without an explicit keyword will result in an error or misinterpretation.\n",
      "  warnings.warn(\n"
     ]
    },
    {
     "data": {
      "text/plain": [
       "<AxesSubplot:ylabel='count'>"
      ]
     },
     "execution_count": 8,
     "metadata": {},
     "output_type": "execute_result"
    },
    {
     "data": {
      "image/png": "[encoded data removed]",
      "text/plain": [
       "<Figure size 720x288 with 2 Axes>"
      ]
     },
     "metadata": {
      "needs_background": "light"
     },
     "output_type": "display_data"
    }
   ],
   "source": [
    "plt.rcParams[\"figure.figsize\"] = (10,4)\n",
    "\n",
    "fig, (ax1, ax2) = plt.subplots(ncols = 2, sharey = True)\n",
    "\n",
    "sns.countplot(all_channels, ax=ax1)\n",
    "sns.countplot(all_types, ax=ax2)"
   ]
  },
  {
   "cell_type": "markdown",
   "id": "79d12713",
   "metadata": {},
   "source": [
    "We see with these distributions that the most offers are sent through **Email** and **Mobile**. **Informational** offers are much more uncommon than the other types of offers as well. I'd like to explore the data further by filtering out only transactions that have been *viewed* and *completed*."
   ]
  },
  {
   "cell_type": "code",
   "execution_count": 9,
   "id": "b2fae536",
   "metadata": {},
   "outputs": [],
   "source": [
    "del all_types, all_channels;"
   ]
  },
  {
   "cell_type": "markdown",
   "id": "a93622f5",
   "metadata": {},
   "source": [
    "### Preparing the data\n",
    "\n",
    "As we can already see through the initial exploration, there are a lot of areas that need to be cleaned. This will include formatting the text columns, and removing missing values.\n",
    "\n",
    "We'll start with the **Portfolio** dataset. We see that **channels** are grouped as list values. I will separate the individual values and dummy-fy them. The same will be done for **offer types**. We'll then drop the original columns and append the newer one-hot encoded columns."
   ]
  },
  {
   "cell_type": "code",
   "execution_count": 10,
   "id": "bc7da869",
   "metadata": {},
   "outputs": [],
   "source": [
    "# Dummy-fy channel attributes\n",
    "portfolio_channels = portfolio['channels'].apply(lambda x: ' '.join(x)).str.get_dummies(' ');\n",
    "portfolio_channels.columns = ['channel_' + col for col in portfolio_channels.columns];\n",
    "\n",
    "# Dummy-fy offer type attributes\n",
    "portfolio_offertype = portfolio['offer_type'].str.get_dummies()\n",
    "portfolio_offertype.columns = ['offer_' + col for col in portfolio_offertype.columns];"
   ]
  },
  {
   "cell_type": "code",
   "execution_count": 11,
   "id": "fce6f8e4",
   "metadata": {},
   "outputs": [
    {
     "data": {
      "text/html": [
       "<div>\n",
       "<style scoped>\n",
       "    .dataframe tbody tr th:only-of-type {\n",
       "        vertical-align: middle;\n",
       "    }\n",
       "\n",
       "    .dataframe tbody tr th {\n",
       "        vertical-align: top;\n",
       "    }\n",
       "\n",
       "    .dataframe thead th {\n",
       "        text-align: right;\n",
       "    }\n",
       "</style>\n",
       "<table border=\"1\" class=\"dataframe\">\n",
       "  <thead>\n",
       "    <tr style=\"text-align: right;\">\n",
       "      <th></th>\n",
       "      <th>reward</th>\n",
       "      <th>difficulty</th>\n",
       "      <th>duration</th>\n",
       "      <th>id</th>\n",
       "      <th>channel_email</th>\n",
       "      <th>channel_mobile</th>\n",
       "      <th>channel_social</th>\n",
       "      <th>channel_web</th>\n",
       "      <th>offer_bogo</th>\n",
       "      <th>offer_discount</th>\n",
       "      <th>offer_informational</th>\n",
       "    </tr>\n",
       "  </thead>\n",
       "  <tbody>\n",
       "    <tr>\n",
       "      <th>0</th>\n",
       "      <td>10</td>\n",
       "      <td>10</td>\n",
       "      <td>7</td>\n",
       "      <td>ae264e3637204a6fb9bb56bc8210ddfd</td>\n",
       "      <td>1</td>\n",
       "      <td>1</td>\n",
       "      <td>1</td>\n",
       "      <td>0</td>\n",
       "      <td>1</td>\n",
       "      <td>0</td>\n",
       "      <td>0</td>\n",
       "    </tr>\n",
       "    <tr>\n",
       "      <th>1</th>\n",
       "      <td>10</td>\n",
       "      <td>10</td>\n",
       "      <td>5</td>\n",
       "      <td>4d5c57ea9a6940dd891ad53e9dbe8da0</td>\n",
       "      <td>1</td>\n",
       "      <td>1</td>\n",
       "      <td>1</td>\n",
       "      <td>1</td>\n",
       "      <td>1</td>\n",
       "      <td>0</td>\n",
       "      <td>0</td>\n",
       "    </tr>\n",
       "    <tr>\n",
       "      <th>2</th>\n",
       "      <td>0</td>\n",
       "      <td>0</td>\n",
       "      <td>4</td>\n",
       "      <td>3f207df678b143eea3cee63160fa8bed</td>\n",
       "      <td>1</td>\n",
       "      <td>1</td>\n",
       "      <td>0</td>\n",
       "      <td>1</td>\n",
       "      <td>0</td>\n",
       "      <td>0</td>\n",
       "      <td>1</td>\n",
       "    </tr>\n",
       "    <tr>\n",
       "      <th>3</th>\n",
       "      <td>5</td>\n",
       "      <td>5</td>\n",
       "      <td>7</td>\n",
       "      <td>9b98b8c7a33c4b65b9aebfe6a799e6d9</td>\n",
       "      <td>1</td>\n",
       "      <td>1</td>\n",
       "      <td>0</td>\n",
       "      <td>1</td>\n",
       "      <td>1</td>\n",
       "      <td>0</td>\n",
       "      <td>0</td>\n",
       "    </tr>\n",
       "    <tr>\n",
       "      <th>4</th>\n",
       "      <td>5</td>\n",
       "      <td>20</td>\n",
       "      <td>10</td>\n",
       "      <td>0b1e1539f2cc45b7b9fa7c272da2e1d7</td>\n",
       "      <td>1</td>\n",
       "      <td>0</td>\n",
       "      <td>0</td>\n",
       "      <td>1</td>\n",
       "      <td>0</td>\n",
       "      <td>1</td>\n",
       "      <td>0</td>\n",
       "    </tr>\n",
       "  </tbody>\n",
       "</table>\n",
       "</div>"
      ],
      "text/plain": [
       "   reward  difficulty  duration                                id  \\\n",
       "0      10          10         7  ae264e3637204a6fb9bb56bc8210ddfd   \n",
       "1      10          10         5  4d5c57ea9a6940dd891ad53e9dbe8da0   \n",
       "2       0           0         4  3f207df678b143eea3cee63160fa8bed   \n",
       "3       5           5         7  9b98b8c7a33c4b65b9aebfe6a799e6d9   \n",
       "4       5          20        10  0b1e1539f2cc45b7b9fa7c272da2e1d7   \n",
       "\n",
       "   channel_email  channel_mobile  channel_social  channel_web  offer_bogo  \\\n",
       "0              1               1               1            0           1   \n",
       "1              1               1               1            1           1   \n",
       "2              1               1               0            1           0   \n",
       "3              1               1               0            1           1   \n",
       "4              1               0               0            1           0   \n",
       "\n",
       "   offer_discount  offer_informational  \n",
       "0               0                    0  \n",
       "1               0                    0  \n",
       "2               0                    1  \n",
       "3               0                    0  \n",
       "4               1                    0  "
      ]
     },
     "execution_count": 11,
     "metadata": {},
     "output_type": "execute_result"
    }
   ],
   "source": [
    "# Add dummy columns and drop existing\n",
    "portfolio = pd.concat([portfolio, portfolio_channels, portfolio_offertype], axis=1);\n",
    "portfolio = portfolio.drop(['channels', 'offer_type'], axis=1);\n",
    "portfolio.head()"
   ]
  },
  {
   "cell_type": "code",
   "execution_count": 12,
   "id": "5a0afd55",
   "metadata": {},
   "outputs": [],
   "source": [
    "del portfolio_channels, portfolio_offertype"
   ]
  },
  {
   "cell_type": "code",
   "execution_count": 13,
   "id": "f5e6c845",
   "metadata": {},
   "outputs": [
    {
     "data": {
      "text/plain": [
       "0"
      ]
     },
     "execution_count": 13,
     "metadata": {},
     "output_type": "execute_result"
    }
   ],
   "source": [
    "portfolio.isna().sum().sum()"
   ]
  },
  {
   "cell_type": "markdown",
   "id": "4bc8c891",
   "metadata": {},
   "source": [
    "The above sample shows our final cleaned **Portfolio** dataset. The above call also shows that there are no missing values to be removed.\n",
    "\n",
    "Next, we look at the **Profile** dataset. Let's start by looking at missing value counts, and dropping these rows."
   ]
  },
  {
   "cell_type": "code",
   "execution_count": 14,
   "id": "ea32a220",
   "metadata": {},
   "outputs": [
    {
     "name": "stdout",
     "output_type": "stream",
     "text": [
      "# missing values of income, gender:\n"
     ]
    },
    {
     "data": {
      "text/plain": [
       "(2175, 2175)"
      ]
     },
     "execution_count": 14,
     "metadata": {},
     "output_type": "execute_result"
    }
   ],
   "source": [
    "print('# missing values of income, gender:')\n",
    "profile['income'].isna().sum(), profile['gender'].isna().sum()"
   ]
  },
  {
   "cell_type": "code",
   "execution_count": 15,
   "id": "177ea0f1",
   "metadata": {},
   "outputs": [],
   "source": [
    "profile = profile.dropna(axis=0, subset=['gender', 'income']);"
   ]
  },
  {
   "cell_type": "markdown",
   "id": "e9f78ae7",
   "metadata": {},
   "source": [
    "The **Profile** dataset also has a column for membership data, **became_member_on**. I will separate out the date strings into *Year*, *Month*, and *Day*, and keep them as integer values. For **gender**, we will dummy-fy the values into separate one-hot-encodings."
   ]
  },
  {
   "cell_type": "code",
   "execution_count": 16,
   "id": "028f7872",
   "metadata": {},
   "outputs": [],
   "source": [
    "profile_gender = profile['gender'].str.get_dummies()\n",
    "profile_gender.columns = ['gender_' + col for col in profile_gender.columns];"
   ]
  },
  {
   "cell_type": "code",
   "execution_count": 17,
   "id": "93807d85",
   "metadata": {},
   "outputs": [],
   "source": [
    "# Separate date attributes into year, month, and day, converting to integers.\n",
    "profile_date = profile['became_member_on'];\n",
    "\n",
    "profile_year = profile_date.apply(lambda d: str(d)).str[0:4].astype('int').rename('member_year');\n",
    "profile_month = profile_date.apply(lambda d: str(d)).str[4:6].astype('int').rename('member_month');\n",
    "profile_day = profile_date.apply(lambda d: str(d)).str[6:8].astype('int').rename('member_day');"
   ]
  },
  {
   "cell_type": "code",
   "execution_count": 18,
   "id": "a1c82af8",
   "metadata": {},
   "outputs": [],
   "source": [
    "profile = pd.concat([profile, profile_gender, profile_year, profile_month, profile_day], axis=1);"
   ]
  },
  {
   "cell_type": "code",
   "execution_count": 19,
   "id": "ee3a60cd",
   "metadata": {},
   "outputs": [],
   "source": [
    "profile = profile.drop(['became_member_on', 'gender'], axis=1);"
   ]
  },
  {
   "cell_type": "code",
   "execution_count": 20,
   "id": "7684aafc",
   "metadata": {},
   "outputs": [],
   "source": [
    "del profile_gender, profile_year, profile_month, profile_day"
   ]
  },
  {
   "cell_type": "code",
   "execution_count": 21,
   "id": "29d5b22a",
   "metadata": {},
   "outputs": [
    {
     "data": {
      "text/html": [
       "<div>\n",
       "<style scoped>\n",
       "    .dataframe tbody tr th:only-of-type {\n",
       "        vertical-align: middle;\n",
       "    }\n",
       "\n",
       "    .dataframe tbody tr th {\n",
       "        vertical-align: top;\n",
       "    }\n",
       "\n",
       "    .dataframe thead th {\n",
       "        text-align: right;\n",
       "    }\n",
       "</style>\n",
       "<table border=\"1\" class=\"dataframe\">\n",
       "  <thead>\n",
       "    <tr style=\"text-align: right;\">\n",
       "      <th></th>\n",
       "      <th>age</th>\n",
       "      <th>id</th>\n",
       "      <th>income</th>\n",
       "      <th>gender_F</th>\n",
       "      <th>gender_M</th>\n",
       "      <th>gender_O</th>\n",
       "      <th>member_year</th>\n",
       "      <th>member_month</th>\n",
       "      <th>member_day</th>\n",
       "    </tr>\n",
       "  </thead>\n",
       "  <tbody>\n",
       "    <tr>\n",
       "      <th>1</th>\n",
       "      <td>55</td>\n",
       "      <td>0610b486422d4921ae7d2bf64640c50b</td>\n",
       "      <td>112000.0</td>\n",
       "      <td>1</td>\n",
       "      <td>0</td>\n",
       "      <td>0</td>\n",
       "      <td>2017</td>\n",
       "      <td>7</td>\n",
       "      <td>15</td>\n",
       "    </tr>\n",
       "    <tr>\n",
       "      <th>3</th>\n",
       "      <td>75</td>\n",
       "      <td>78afa995795e4d85b5d9ceeca43f5fef</td>\n",
       "      <td>100000.0</td>\n",
       "      <td>1</td>\n",
       "      <td>0</td>\n",
       "      <td>0</td>\n",
       "      <td>2017</td>\n",
       "      <td>5</td>\n",
       "      <td>9</td>\n",
       "    </tr>\n",
       "    <tr>\n",
       "      <th>5</th>\n",
       "      <td>68</td>\n",
       "      <td>e2127556f4f64592b11af22de27a7932</td>\n",
       "      <td>70000.0</td>\n",
       "      <td>0</td>\n",
       "      <td>1</td>\n",
       "      <td>0</td>\n",
       "      <td>2018</td>\n",
       "      <td>4</td>\n",
       "      <td>26</td>\n",
       "    </tr>\n",
       "    <tr>\n",
       "      <th>8</th>\n",
       "      <td>65</td>\n",
       "      <td>389bc3fa690240e798340f5a15918d5c</td>\n",
       "      <td>53000.0</td>\n",
       "      <td>0</td>\n",
       "      <td>1</td>\n",
       "      <td>0</td>\n",
       "      <td>2018</td>\n",
       "      <td>2</td>\n",
       "      <td>9</td>\n",
       "    </tr>\n",
       "    <tr>\n",
       "      <th>12</th>\n",
       "      <td>58</td>\n",
       "      <td>2eeac8d8feae4a8cad5a6af0499a211d</td>\n",
       "      <td>51000.0</td>\n",
       "      <td>0</td>\n",
       "      <td>1</td>\n",
       "      <td>0</td>\n",
       "      <td>2017</td>\n",
       "      <td>11</td>\n",
       "      <td>11</td>\n",
       "    </tr>\n",
       "  </tbody>\n",
       "</table>\n",
       "</div>"
      ],
      "text/plain": [
       "    age                                id    income  gender_F  gender_M  \\\n",
       "1    55  0610b486422d4921ae7d2bf64640c50b  112000.0         1         0   \n",
       "3    75  78afa995795e4d85b5d9ceeca43f5fef  100000.0         1         0   \n",
       "5    68  e2127556f4f64592b11af22de27a7932   70000.0         0         1   \n",
       "8    65  389bc3fa690240e798340f5a15918d5c   53000.0         0         1   \n",
       "12   58  2eeac8d8feae4a8cad5a6af0499a211d   51000.0         0         1   \n",
       "\n",
       "    gender_O  member_year  member_month  member_day  \n",
       "1          0         2017             7          15  \n",
       "3          0         2017             5           9  \n",
       "5          0         2018             4          26  \n",
       "8          0         2018             2           9  \n",
       "12         0         2017            11          11  "
      ]
     },
     "execution_count": 21,
     "metadata": {},
     "output_type": "execute_result"
    }
   ],
   "source": [
    "profile.head()"
   ]
  },
  {
   "cell_type": "markdown",
   "id": "d6096003",
   "metadata": {},
   "source": [
    "The **Transcript** dataset is bigger and has more required cleaning. The column **value** is stored as a dictionary. The values in the dictionaries are inconsistent, with both `offer_id` and `offer id` stored. Once we clean those, they can be converted into columns. The **event** column will also be dummy-fied, and column names standardized."
   ]
  },
  {
   "cell_type": "code",
   "execution_count": 22,
   "id": "64a7352d",
   "metadata": {},
   "outputs": [],
   "source": [
    "transcript_event = transcript['event'].str.get_dummies();\n",
    "transcript_event.columns = ['event_' + '_'.join(col.split(' ')) for col in transcript_event.columns];"
   ]
  },
  {
   "cell_type": "code",
   "execution_count": 23,
   "id": "b46c1c45",
   "metadata": {},
   "outputs": [],
   "source": [
    "# standardize \"offer id\" column names\n",
    "def transcript_value_clean(x_dict):\n",
    "    if 'offer id' in x_dict:\n",
    "        x_dict['offer_id'] = x_dict['offer id'];\n",
    "        del x_dict['offer id'];\n",
    "    return x_dict;\n",
    "\n",
    "transcript_values = transcript['value'].apply(lambda x: transcript_value_clean(x));\n",
    "transcript_values = pd.DataFrame(list(transcript_values.values));"
   ]
  },
  {
   "cell_type": "markdown",
   "id": "761115e1",
   "metadata": {},
   "source": [
    "Amount values are stored in both **reward** and **amount** columns, and they distinguish different types of transactions. Instead of having both, we will merge both into a single column, and use new columns *is_reward* and *is_amount* for distinguishing them. Finally, if there is an **offer_id** associated with a transaction, *has_offer* will store it, and null values will be replaced with a 0."
   ]
  },
  {
   "cell_type": "code",
   "execution_count": 24,
   "id": "3c2de991",
   "metadata": {},
   "outputs": [],
   "source": [
    "transcript_values['is_reward'] = transcript_values['reward'].apply(lambda x: int(not np.isnan(x)));"
   ]
  },
  {
   "cell_type": "code",
   "execution_count": 25,
   "id": "d4954018",
   "metadata": {},
   "outputs": [],
   "source": [
    "# merge amount and reward columns\n",
    "transcript_values['is_amount'] = transcript_values['amount'].apply(lambda x: int(not np.isnan(x)));\n",
    "transcript_values['amount'] = transcript_values[['amount', 'reward']].apply(lambda x: x[0] if np.isnan(x[1]) else x[1], axis=1)"
   ]
  },
  {
   "cell_type": "code",
   "execution_count": 26,
   "id": "bb3374a0",
   "metadata": {},
   "outputs": [],
   "source": [
    "# filling null offer ids with \"0\"\n",
    "transcript_values['has_offer'] = transcript_values['offer_id'].apply(lambda x: int(not pd.isna(x)));\n",
    "transcript_values['offer_id'] = transcript_values['offer_id'].apply(lambda x: '0' if pd.isna(x) else x);"
   ]
  },
  {
   "cell_type": "code",
   "execution_count": 27,
   "id": "4467fe84",
   "metadata": {},
   "outputs": [],
   "source": [
    "transcript = pd.concat([transcript, transcript_values, transcript_event], axis=1);"
   ]
  },
  {
   "cell_type": "code",
   "execution_count": 28,
   "id": "19fff06f",
   "metadata": {},
   "outputs": [],
   "source": [
    "transcript = transcript.drop(['value', 'event', 'reward'], axis=1);"
   ]
  },
  {
   "cell_type": "code",
   "execution_count": 29,
   "id": "bca5d573",
   "metadata": {},
   "outputs": [],
   "source": [
    "del transcript_value_clean, transcript_values, transcript_event"
   ]
  },
  {
   "cell_type": "code",
   "execution_count": 30,
   "id": "219c9b04",
   "metadata": {},
   "outputs": [
    {
     "data": {
      "text/html": [
       "<div>\n",
       "<style scoped>\n",
       "    .dataframe tbody tr th:only-of-type {\n",
       "        vertical-align: middle;\n",
       "    }\n",
       "\n",
       "    .dataframe tbody tr th {\n",
       "        vertical-align: top;\n",
       "    }\n",
       "\n",
       "    .dataframe thead th {\n",
       "        text-align: right;\n",
       "    }\n",
       "</style>\n",
       "<table border=\"1\" class=\"dataframe\">\n",
       "  <thead>\n",
       "    <tr style=\"text-align: right;\">\n",
       "      <th></th>\n",
       "      <th>person</th>\n",
       "      <th>time</th>\n",
       "      <th>offer_id</th>\n",
       "      <th>amount</th>\n",
       "      <th>is_reward</th>\n",
       "      <th>is_amount</th>\n",
       "      <th>has_offer</th>\n",
       "      <th>event_offer_completed</th>\n",
       "      <th>event_offer_received</th>\n",
       "      <th>event_offer_viewed</th>\n",
       "      <th>event_transaction</th>\n",
       "    </tr>\n",
       "  </thead>\n",
       "  <tbody>\n",
       "    <tr>\n",
       "      <th>0</th>\n",
       "      <td>78afa995795e4d85b5d9ceeca43f5fef</td>\n",
       "      <td>0</td>\n",
       "      <td>9b98b8c7a33c4b65b9aebfe6a799e6d9</td>\n",
       "      <td>NaN</td>\n",
       "      <td>0</td>\n",
       "      <td>0</td>\n",
       "      <td>1</td>\n",
       "      <td>0</td>\n",
       "      <td>1</td>\n",
       "      <td>0</td>\n",
       "      <td>0</td>\n",
       "    </tr>\n",
       "    <tr>\n",
       "      <th>1</th>\n",
       "      <td>a03223e636434f42ac4c3df47e8bac43</td>\n",
       "      <td>0</td>\n",
       "      <td>0b1e1539f2cc45b7b9fa7c272da2e1d7</td>\n",
       "      <td>NaN</td>\n",
       "      <td>0</td>\n",
       "      <td>0</td>\n",
       "      <td>1</td>\n",
       "      <td>0</td>\n",
       "      <td>1</td>\n",
       "      <td>0</td>\n",
       "      <td>0</td>\n",
       "    </tr>\n",
       "    <tr>\n",
       "      <th>2</th>\n",
       "      <td>e2127556f4f64592b11af22de27a7932</td>\n",
       "      <td>0</td>\n",
       "      <td>2906b810c7d4411798c6938adc9daaa5</td>\n",
       "      <td>NaN</td>\n",
       "      <td>0</td>\n",
       "      <td>0</td>\n",
       "      <td>1</td>\n",
       "      <td>0</td>\n",
       "      <td>1</td>\n",
       "      <td>0</td>\n",
       "      <td>0</td>\n",
       "    </tr>\n",
       "    <tr>\n",
       "      <th>3</th>\n",
       "      <td>8ec6ce2a7e7949b1bf142def7d0e0586</td>\n",
       "      <td>0</td>\n",
       "      <td>fafdcd668e3743c1bb461111dcafc2a4</td>\n",
       "      <td>NaN</td>\n",
       "      <td>0</td>\n",
       "      <td>0</td>\n",
       "      <td>1</td>\n",
       "      <td>0</td>\n",
       "      <td>1</td>\n",
       "      <td>0</td>\n",
       "      <td>0</td>\n",
       "    </tr>\n",
       "    <tr>\n",
       "      <th>4</th>\n",
       "      <td>68617ca6246f4fbc85e91a2a49552598</td>\n",
       "      <td>0</td>\n",
       "      <td>4d5c57ea9a6940dd891ad53e9dbe8da0</td>\n",
       "      <td>NaN</td>\n",
       "      <td>0</td>\n",
       "      <td>0</td>\n",
       "      <td>1</td>\n",
       "      <td>0</td>\n",
       "      <td>1</td>\n",
       "      <td>0</td>\n",
       "      <td>0</td>\n",
       "    </tr>\n",
       "  </tbody>\n",
       "</table>\n",
       "</div>"
      ],
      "text/plain": [
       "                             person  time                          offer_id  \\\n",
       "0  78afa995795e4d85b5d9ceeca43f5fef     0  9b98b8c7a33c4b65b9aebfe6a799e6d9   \n",
       "1  a03223e636434f42ac4c3df47e8bac43     0  0b1e1539f2cc45b7b9fa7c272da2e1d7   \n",
       "2  e2127556f4f64592b11af22de27a7932     0  2906b810c7d4411798c6938adc9daaa5   \n",
       "3  8ec6ce2a7e7949b1bf142def7d0e0586     0  fafdcd668e3743c1bb461111dcafc2a4   \n",
       "4  68617ca6246f4fbc85e91a2a49552598     0  4d5c57ea9a6940dd891ad53e9dbe8da0   \n",
       "\n",
       "   amount  is_reward  is_amount  has_offer  event_offer_completed  \\\n",
       "0     NaN          0          0          1                      0   \n",
       "1     NaN          0          0          1                      0   \n",
       "2     NaN          0          0          1                      0   \n",
       "3     NaN          0          0          1                      0   \n",
       "4     NaN          0          0          1                      0   \n",
       "\n",
       "   event_offer_received  event_offer_viewed  event_transaction  \n",
       "0                     1                   0                  0  \n",
       "1                     1                   0                  0  \n",
       "2                     1                   0                  0  \n",
       "3                     1                   0                  0  \n",
       "4                     1                   0                  0  "
      ]
     },
     "execution_count": 30,
     "metadata": {},
     "output_type": "execute_result"
    }
   ],
   "source": [
    "transcript.head()"
   ]
  },
  {
   "cell_type": "markdown",
   "id": "5549df9e",
   "metadata": {},
   "source": [
    "The final **Portfolio**, **Profile**, and **Transcript** datasets are all cleaned, and can be used for further exploration. We'll now create some new datasets from these. These will be\n",
    "\n",
    "- Transactions Only - Store only transactions, not associated with an offer, along with demographic data on the users.\n",
    "\n",
    "- Transcript by Group - Store transactions by grouping them by their offer, and the person it was sent to."
   ]
  },
  {
   "cell_type": "code",
   "execution_count": 31,
   "id": "16248c48",
   "metadata": {},
   "outputs": [],
   "source": [
    "transcript_profile = pd.merge(transcript, profile, left_on='person', right_on='id')"
   ]
  },
  {
   "cell_type": "code",
   "execution_count": 32,
   "id": "59b0a5da",
   "metadata": {},
   "outputs": [
    {
     "data": {
      "text/html": [
       "<div>\n",
       "<style scoped>\n",
       "    .dataframe tbody tr th:only-of-type {\n",
       "        vertical-align: middle;\n",
       "    }\n",
       "\n",
       "    .dataframe tbody tr th {\n",
       "        vertical-align: top;\n",
       "    }\n",
       "\n",
       "    .dataframe thead th {\n",
       "        text-align: right;\n",
       "    }\n",
       "</style>\n",
       "<table border=\"1\" class=\"dataframe\">\n",
       "  <thead>\n",
       "    <tr style=\"text-align: right;\">\n",
       "      <th></th>\n",
       "      <th>time</th>\n",
       "      <th>amount</th>\n",
       "      <th>is_reward</th>\n",
       "      <th>is_amount</th>\n",
       "      <th>has_offer</th>\n",
       "      <th>event_offer_completed</th>\n",
       "      <th>event_offer_received</th>\n",
       "      <th>event_offer_viewed</th>\n",
       "      <th>event_transaction</th>\n",
       "      <th>age</th>\n",
       "      <th>income</th>\n",
       "      <th>gender_F</th>\n",
       "      <th>gender_M</th>\n",
       "      <th>gender_O</th>\n",
       "      <th>member_year</th>\n",
       "      <th>member_month</th>\n",
       "      <th>member_day</th>\n",
       "    </tr>\n",
       "  </thead>\n",
       "  <tbody>\n",
       "    <tr>\n",
       "      <th>2</th>\n",
       "      <td>132</td>\n",
       "      <td>19.89</td>\n",
       "      <td>0</td>\n",
       "      <td>1</td>\n",
       "      <td>0</td>\n",
       "      <td>0</td>\n",
       "      <td>0</td>\n",
       "      <td>0</td>\n",
       "      <td>1</td>\n",
       "      <td>75</td>\n",
       "      <td>100000.0</td>\n",
       "      <td>1</td>\n",
       "      <td>0</td>\n",
       "      <td>0</td>\n",
       "      <td>2017</td>\n",
       "      <td>5</td>\n",
       "      <td>9</td>\n",
       "    </tr>\n",
       "    <tr>\n",
       "      <th>4</th>\n",
       "      <td>144</td>\n",
       "      <td>17.78</td>\n",
       "      <td>0</td>\n",
       "      <td>1</td>\n",
       "      <td>0</td>\n",
       "      <td>0</td>\n",
       "      <td>0</td>\n",
       "      <td>0</td>\n",
       "      <td>1</td>\n",
       "      <td>75</td>\n",
       "      <td>100000.0</td>\n",
       "      <td>1</td>\n",
       "      <td>0</td>\n",
       "      <td>0</td>\n",
       "      <td>2017</td>\n",
       "      <td>5</td>\n",
       "      <td>9</td>\n",
       "    </tr>\n",
       "    <tr>\n",
       "      <th>7</th>\n",
       "      <td>222</td>\n",
       "      <td>19.67</td>\n",
       "      <td>0</td>\n",
       "      <td>1</td>\n",
       "      <td>0</td>\n",
       "      <td>0</td>\n",
       "      <td>0</td>\n",
       "      <td>0</td>\n",
       "      <td>1</td>\n",
       "      <td>75</td>\n",
       "      <td>100000.0</td>\n",
       "      <td>1</td>\n",
       "      <td>0</td>\n",
       "      <td>0</td>\n",
       "      <td>2017</td>\n",
       "      <td>5</td>\n",
       "      <td>9</td>\n",
       "    </tr>\n",
       "    <tr>\n",
       "      <th>8</th>\n",
       "      <td>240</td>\n",
       "      <td>29.72</td>\n",
       "      <td>0</td>\n",
       "      <td>1</td>\n",
       "      <td>0</td>\n",
       "      <td>0</td>\n",
       "      <td>0</td>\n",
       "      <td>0</td>\n",
       "      <td>1</td>\n",
       "      <td>75</td>\n",
       "      <td>100000.0</td>\n",
       "      <td>1</td>\n",
       "      <td>0</td>\n",
       "      <td>0</td>\n",
       "      <td>2017</td>\n",
       "      <td>5</td>\n",
       "      <td>9</td>\n",
       "    </tr>\n",
       "    <tr>\n",
       "      <th>9</th>\n",
       "      <td>378</td>\n",
       "      <td>23.93</td>\n",
       "      <td>0</td>\n",
       "      <td>1</td>\n",
       "      <td>0</td>\n",
       "      <td>0</td>\n",
       "      <td>0</td>\n",
       "      <td>0</td>\n",
       "      <td>1</td>\n",
       "      <td>75</td>\n",
       "      <td>100000.0</td>\n",
       "      <td>1</td>\n",
       "      <td>0</td>\n",
       "      <td>0</td>\n",
       "      <td>2017</td>\n",
       "      <td>5</td>\n",
       "      <td>9</td>\n",
       "    </tr>\n",
       "  </tbody>\n",
       "</table>\n",
       "</div>"
      ],
      "text/plain": [
       "   time  amount  is_reward  is_amount  has_offer  event_offer_completed  \\\n",
       "2   132   19.89          0          1          0                      0   \n",
       "4   144   17.78          0          1          0                      0   \n",
       "7   222   19.67          0          1          0                      0   \n",
       "8   240   29.72          0          1          0                      0   \n",
       "9   378   23.93          0          1          0                      0   \n",
       "\n",
       "   event_offer_received  event_offer_viewed  event_transaction  age    income  \\\n",
       "2                     0                   0                  1   75  100000.0   \n",
       "4                     0                   0                  1   75  100000.0   \n",
       "7                     0                   0                  1   75  100000.0   \n",
       "8                     0                   0                  1   75  100000.0   \n",
       "9                     0                   0                  1   75  100000.0   \n",
       "\n",
       "   gender_F  gender_M  gender_O  member_year  member_month  member_day  \n",
       "2         1         0         0         2017             5           9  \n",
       "4         1         0         0         2017             5           9  \n",
       "7         1         0         0         2017             5           9  \n",
       "8         1         0         0         2017             5           9  \n",
       "9         1         0         0         2017             5           9  "
      ]
     },
     "execution_count": 32,
     "metadata": {},
     "output_type": "execute_result"
    }
   ],
   "source": [
    "# keep only records of actual transactions, and keep integer columns\n",
    "transaction_data_only = transcript_profile[transcript_profile.event_transaction == 1];\n",
    "transaction_data_only = transaction_data_only.select_dtypes(exclude=['object']);\n",
    "\n",
    "# separate into male and female dataframes\n",
    "transaction_data_f = transaction_data_only[transaction_data_only.gender_F == 1]\n",
    "transaction_data_m = transaction_data_only[transaction_data_only.gender_M == 1]\n",
    "\n",
    "transaction_data_only.head()"
   ]
  },
  {
   "cell_type": "code",
   "execution_count": 33,
   "id": "1b9c94e4",
   "metadata": {},
   "outputs": [
    {
     "name": "stderr",
     "output_type": "stream",
     "text": [
      "C:\\Users\\agusa\\anaconda3\\lib\\site-packages\\seaborn\\_decorators.py:36: FutureWarning: Pass the following variable as a keyword arg: x. From version 0.12, the only valid positional argument will be `data`, and passing other arguments without an explicit keyword will result in an error or misinterpretation.\n",
      "  warnings.warn(\n"
     ]
    },
    {
     "data": {
      "image/png": "[encoded data removed]",
      "text/plain": [
       "<Figure size 864x288 with 2 Axes>"
      ]
     },
     "metadata": {
      "needs_background": "light"
     },
     "output_type": "display_data"
    }
   ],
   "source": [
    "plt.rcParams[\"figure.figsize\"] = (12,4)\n",
    "\n",
    "fig, (ax1, ax2) = plt.subplots(ncols = 2)\n",
    "\n",
    "# plotting a Box Plot of amounts by gender\n",
    "g = sns.boxplot(x=\"gender_F\", y=\"amount\",\n",
    "            hue=\"gender_F\", palette=[\"m\", \"g\"],\n",
    "            data=transaction_data_only, ax=ax1)\n",
    "\n",
    "# set a log Y scale\n",
    "g.set_yscale('log')\n",
    "g.legend().set_title('Gender')\n",
    "for t, l in zip(g.legend().texts, ['Male', 'Female']): t.set_text(l)\n",
    "\n",
    "# plot title and axis\n",
    "plt.title('Amount spent on transactions by Gender')\n",
    "plt.xlabel('Gender')\n",
    "plt.ylabel('Amount')\n",
    "plt.xticks([[]])\n",
    "\n",
    "# plotting a Bar Plot of number of transactions by gender\n",
    "h = sns.countplot(transaction_data_only['gender_F'], ax=ax2)\n",
    "\n",
    "# plot title and axis\n",
    "plt.title('Number of Transactions by Gender')\n",
    "plt.xlabel('Gender')\n",
    "plt.ylabel('Transactions')\n",
    "\n",
    "plt.xticks([0, 1], ['Male', 'Female'])\n",
    "\n",
    "# Create a new DataFrame of stat details on required attributes\n",
    "description_columns = ['amount', 'age', 'income']\n",
    "description_labels = [cat + '_' + gen for cat in ['Male', 'Female'] for gen in description_columns]\n",
    "reorder_columns = [gen + '_' + cat for cat in description_columns for gen in ['Male', 'Female']]\n",
    "\n",
    "# Separate into stats from Female and Male transactions\n",
    "description = pd.concat([transaction_data_m[['amount', 'age', 'income']].describe(), \n",
    "           transaction_data_f[['amount', 'age', 'income']].describe()], axis=1);\n",
    "description.columns = description_labels;\n",
    "\n",
    "plt.show()"
   ]
  },
  {
   "cell_type": "code",
   "execution_count": 34,
   "id": "0df7332d",
   "metadata": {},
   "outputs": [
    {
     "data": {
      "text/html": [
       "<div>\n",
       "<style scoped>\n",
       "    .dataframe tbody tr th:only-of-type {\n",
       "        vertical-align: middle;\n",
       "    }\n",
       "\n",
       "    .dataframe tbody tr th {\n",
       "        vertical-align: top;\n",
       "    }\n",
       "\n",
       "    .dataframe thead th {\n",
       "        text-align: right;\n",
       "    }\n",
       "</style>\n",
       "<table border=\"1\" class=\"dataframe\">\n",
       "  <thead>\n",
       "    <tr style=\"text-align: right;\">\n",
       "      <th></th>\n",
       "      <th>Male_amount</th>\n",
       "      <th>Female_amount</th>\n",
       "      <th>Male_age</th>\n",
       "      <th>Female_age</th>\n",
       "      <th>Male_income</th>\n",
       "      <th>Female_income</th>\n",
       "    </tr>\n",
       "  </thead>\n",
       "  <tbody>\n",
       "    <tr>\n",
       "      <th>count</th>\n",
       "      <td>72794.000000</td>\n",
       "      <td>49382.000000</td>\n",
       "      <td>72794.000000</td>\n",
       "      <td>49382.000000</td>\n",
       "      <td>72794.000000</td>\n",
       "      <td>49382.000000</td>\n",
       "    </tr>\n",
       "    <tr>\n",
       "      <th>mean</th>\n",
       "      <td>11.606600</td>\n",
       "      <td>17.490077</td>\n",
       "      <td>50.725650</td>\n",
       "      <td>55.637986</td>\n",
       "      <td>58491.317966</td>\n",
       "      <td>66813.960552</td>\n",
       "    </tr>\n",
       "    <tr>\n",
       "      <th>std</th>\n",
       "      <td>28.964542</td>\n",
       "      <td>35.342611</td>\n",
       "      <td>17.755604</td>\n",
       "      <td>17.776608</td>\n",
       "      <td>19048.170156</td>\n",
       "      <td>21965.016643</td>\n",
       "    </tr>\n",
       "    <tr>\n",
       "      <th>min</th>\n",
       "      <td>0.050000</td>\n",
       "      <td>0.050000</td>\n",
       "      <td>18.000000</td>\n",
       "      <td>18.000000</td>\n",
       "      <td>30000.000000</td>\n",
       "      <td>30000.000000</td>\n",
       "    </tr>\n",
       "    <tr>\n",
       "      <th>25%</th>\n",
       "      <td>2.570000</td>\n",
       "      <td>7.970000</td>\n",
       "      <td>37.000000</td>\n",
       "      <td>43.000000</td>\n",
       "      <td>43000.000000</td>\n",
       "      <td>51000.000000</td>\n",
       "    </tr>\n",
       "    <tr>\n",
       "      <th>50%</th>\n",
       "      <td>7.050000</td>\n",
       "      <td>15.000000</td>\n",
       "      <td>52.000000</td>\n",
       "      <td>56.000000</td>\n",
       "      <td>56000.000000</td>\n",
       "      <td>65000.000000</td>\n",
       "    </tr>\n",
       "    <tr>\n",
       "      <th>75%</th>\n",
       "      <td>16.220000</td>\n",
       "      <td>22.120000</td>\n",
       "      <td>64.000000</td>\n",
       "      <td>68.000000</td>\n",
       "      <td>70000.000000</td>\n",
       "      <td>82000.000000</td>\n",
       "    </tr>\n",
       "    <tr>\n",
       "      <th>max</th>\n",
       "      <td>977.780000</td>\n",
       "      <td>1062.280000</td>\n",
       "      <td>100.000000</td>\n",
       "      <td>101.000000</td>\n",
       "      <td>120000.000000</td>\n",
       "      <td>120000.000000</td>\n",
       "    </tr>\n",
       "  </tbody>\n",
       "</table>\n",
       "</div>"
      ],
      "text/plain": [
       "        Male_amount  Female_amount      Male_age    Female_age    Male_income  \\\n",
       "count  72794.000000   49382.000000  72794.000000  49382.000000   72794.000000   \n",
       "mean      11.606600      17.490077     50.725650     55.637986   58491.317966   \n",
       "std       28.964542      35.342611     17.755604     17.776608   19048.170156   \n",
       "min        0.050000       0.050000     18.000000     18.000000   30000.000000   \n",
       "25%        2.570000       7.970000     37.000000     43.000000   43000.000000   \n",
       "50%        7.050000      15.000000     52.000000     56.000000   56000.000000   \n",
       "75%       16.220000      22.120000     64.000000     68.000000   70000.000000   \n",
       "max      977.780000    1062.280000    100.000000    101.000000  120000.000000   \n",
       "\n",
       "       Female_income  \n",
       "count   49382.000000  \n",
       "mean    66813.960552  \n",
       "std     21965.016643  \n",
       "min     30000.000000  \n",
       "25%     51000.000000  \n",
       "50%     65000.000000  \n",
       "75%     82000.000000  \n",
       "max    120000.000000  "
      ]
     },
     "execution_count": 34,
     "metadata": {},
     "output_type": "execute_result"
    }
   ],
   "source": [
    "description[reorder_columns]"
   ]
  },
  {
   "cell_type": "markdown",
   "id": "7ea02047",
   "metadata": {},
   "source": [
    "The above three charts answer our questions about **Gender**. We see in the first plot that *Women* spend more on transactions then *Men* do. The interesting thing in the second chart is that it shows that there are a lot more records of purchases by men than those by women.\n",
    "\n",
    "The final chart (table)  gives more detailed statistics on **Amount**, **Age**, and **Income** separated by **Gender**. It shows that *Women* clearly spend more than *Men* do, with higher mean and deviation. Contrary to the early plot on raw data, we see that the **age** of most spenders is similar for both men and women. Finally, the biggest disparity we see is in **Income**. Higher mean and 25/50/70 percentage quantile shows that the average Female spender earns more than the average Male spender.\n",
    "\n",
    "***This answers our first question on the influence of gender of purchases. Women spend more at Starbucks then Men do, with an average difference of about 6 dollars per purchase***."
   ]
  },
  {
   "cell_type": "markdown",
   "id": "22691b81",
   "metadata": {},
   "source": [
    "### Modeling the data\n",
    "\n",
    "With our cleaned data, we can now use Supervised Models to try to predict price. Because **price** is a continous variable, we will need to use a regression model. First, we'll need to separate the data into X and Y."
   ]
  },
  {
   "cell_type": "code",
   "execution_count": 39,
   "id": "594a3394",
   "metadata": {},
   "outputs": [],
   "source": [
    "# Time is relative and will likely not be useful. Amount will be separated into the Y column.\n",
    "\n",
    "data_x = transaction_data_only.drop(['amount', 'time'], axis=1);\n",
    "data_y = transaction_data_only['amount'];"
   ]
  },
  {
   "cell_type": "markdown",
   "id": "f2b515f5",
   "metadata": {},
   "source": [
    "We'll now use a Scaler function to normalize the attributes."
   ]
  },
  {
   "cell_type": "code",
   "execution_count": 40,
   "id": "cc44af2e",
   "metadata": {},
   "outputs": [],
   "source": [
    "scaler = StandardScaler();\n",
    "data_x = scaler.fit_transform(data_x);"
   ]
  },
  {
   "cell_type": "code",
   "execution_count": 41,
   "id": "6ee305fa",
   "metadata": {},
   "outputs": [
    {
     "data": {
      "text/plain": [
       "((123957, 15), (123957,))"
      ]
     },
     "execution_count": 41,
     "metadata": {},
     "output_type": "execute_result"
    }
   ],
   "source": [
    "data_x.shape, data_y.shape"
   ]
  },
  {
   "cell_type": "markdown",
   "id": "aaade547",
   "metadata": {},
   "source": [
    "And finally, separate the X and Y into a Train/Test split."
   ]
  },
  {
   "cell_type": "code",
   "execution_count": 42,
   "id": "e18a4d5f",
   "metadata": {},
   "outputs": [],
   "source": [
    "X_train, X_test, y_train, y_test = train_test_split(data_x, data_y, test_size=0.33);"
   ]
  },
  {
   "cell_type": "code",
   "execution_count": 43,
   "id": "cc1501e4",
   "metadata": {},
   "outputs": [
    {
     "data": {
      "text/plain": [
       "((83051, 15), (40906, 15))"
      ]
     },
     "execution_count": 43,
     "metadata": {},
     "output_type": "execute_result"
    }
   ],
   "source": [
    "X_train.shape, X_test.shape"
   ]
  },
  {
   "cell_type": "markdown",
   "id": "7f6aecad",
   "metadata": {},
   "source": [
    "For modeling, let's start by first using a **Support Vector Machine (SVM)** to fit a model to the data. I will use a Polynomial Regression model. The metric I decided to use is a **R2** score, which works well on continious output."
   ]
  },
  {
   "cell_type": "code",
   "execution_count": null,
   "id": "5a8a8460",
   "metadata": {},
   "outputs": [],
   "source": [
    "sv_model = SVR(kernel='poly', degree=7);\n",
    "sv_model.fit(X_train, y_train);\n",
    "print('SVR model trained on 7-degree poly kernel')"
   ]
  },
  {
   "cell_type": "code",
   "execution_count": null,
   "id": "d393b757",
   "metadata": {},
   "outputs": [],
   "source": [
    "y_preds_svr = sv_model.predict(X_test);\n",
    "print('SVR Model R2 score: ' , r2_score(y_test, y_preds_svr))"
   ]
  },
  {
   "cell_type": "markdown",
   "id": "9161f74e",
   "metadata": {},
   "source": [
    "Although the SVM provided good results, we cannot view feature importance because the kernel is non-linear. Feature importance is useful for us because it will help us understand which attributes most contribute to a predicted label. Let's use a different model for this, such as a **Random Forest**."
   ]
  },
  {
   "cell_type": "code",
   "execution_count": null,
   "id": "cff5875f",
   "metadata": {},
   "outputs": [],
   "source": [
    "\n",
    "\n",
    "rf_model = RandomForestRegressor(n_estimators=100, max_depth=20, max_features=15, min_samples_split=5);\n",
    "rf_model.fit(X_train, y_train);\n",
    "print('RF Model trained with 10 estimators'"
   ]
  },
  {
   "cell_type": "code",
   "execution_count": null,
   "id": "0eadef29",
   "metadata": {},
   "outputs": [],
   "source": [
    "\n",
    "\n",
    "y_preds_rf = rf_model.predict(X_test);\n",
    "print('RF Model R2 score: ' , r2_score(y_test, y_preds_rf))"
   ]
  },
  {
   "cell_type": "markdown",
   "id": "ebe0cd19",
   "metadata": {},
   "source": [
    "The R2 Score is not as good as that obtained with the SVM, so we should try to tune the model to find parameters that provide the best results. For this, we can use a **Grid Search**. The parameters we will tune are\n",
    "\n",
    "- Number of Estimators, between *10, 50, and 100*\n",
    "- Maximum Depth of a tree, between *5, 10, 30, and 80*\n",
    "- Maximum Number of Features in a tree, between *1, 3, 8, and 15*\n",
    "- Minimum Samples to split on, between *3, 5, 10, 30, 50, and 100*"
   ]
  },
  {
   "cell_type": "code",
   "execution_count": null,
   "id": "10f3a2ba",
   "metadata": {},
   "outputs": [],
   "source": [
    "params = {'n_estimators' : [10, 50, 100], 'max_depth' : [5, 10, 30, 80], \\\n",
    "          'max_features': [1, 3, 8, 15], 'min_samples_split': [3, 5, 10, 30, 50, 100]}\n",
    "\n",
    "g_rfm = RandomForestRegressor(random_state=1024);\n",
    "g_src = GridSearchCV(g_rfm, params, verbose=10, cv=5, scoring='r2');"
   ]
  },
  {
   "cell_type": "code",
   "execution_count": null,
   "id": "19994570",
   "metadata": {},
   "outputs": [],
   "source": [
    "g_src.fit(X_train, y_train)"
   ]
  },
  {
   "cell_type": "markdown",
   "id": "9402226c",
   "metadata": {},
   "source": [
    "We can use these obtained parameters to train a Tuned model."
   ]
  },
  {
   "cell_type": "code",
   "execution_count": null,
   "id": "f829a122",
   "metadata": {},
   "outputs": [],
   "source": [
    "tuned_rf_model = RandomForestRegressor(max_depth=30, max_features=3, min_samples_split=100, n_estimators=100);"
   ]
  },
  {
   "cell_type": "code",
   "execution_count": null,
   "id": "8717fcf6",
   "metadata": {},
   "outputs": [],
   "source": [
    "tuned_rf_model.fit(X_train, y_train);"
   ]
  },
  {
   "cell_type": "code",
   "execution_count": null,
   "id": "3bcf9c11",
   "metadata": {},
   "outputs": [],
   "source": [
    "y_preds_tuned = tuned_rf_model.predict(X_test);"
   ]
  },
  {
   "cell_type": "code",
   "execution_count": null,
   "id": "027e3e7c",
   "metadata": {},
   "outputs": [],
   "source": [
    "tuned_rf_model.fit(X_train, y_train);"
   ]
  },
  {
   "cell_type": "code",
   "execution_count": null,
   "id": "9da0a083",
   "metadata": {},
   "outputs": [],
   "source": [
    "y_preds_tuned = tuned_rf_model.predict(X_test);"
   ]
  },
  {
   "cell_type": "code",
   "execution_count": null,
   "id": "ed43092f",
   "metadata": {},
   "outputs": [],
   "source": [
    "r2_score(y_test, y_preds_tuned)"
   ]
  },
  {
   "cell_type": "markdown",
   "id": "7458b3f3",
   "metadata": {},
   "source": [
    "### Results\n",
    "\n",
    "Our final results on the different trained models are:\n",
    "\n",
    "- 0.0791369487837 with *SVM Regressor*\n",
    "- -0.0823391370849 with *Default Random Forest Regressor*\n",
    "- 0.069935792705576483 with *Tuned Random Forest Regressor*\n",
    "\n",
    "The final **R2** score is better than that obtained with a SVM and with the default Random Forest. There is not a lot of difference between the results of the SVM and Random Forest, and our Grid Search shows that the SVM could be tuned to obtain better results as well.\n",
    "\n",
    "With Random Forest, we can look at Feature Importance of the attributes that were used to train the model."
   ]
  },
  {
   "cell_type": "code",
   "execution_count": null,
   "id": "33882377",
   "metadata": {},
   "outputs": [],
   "source": [
    "pd.DataFrame(list(zip(transaction_data_only.columns[2:], tuned_rf_model.feature_importances_)), columns=['Attribute', 'Feature Importance']).sort_values(by='Feature Importance', ascending=False)"
   ]
  },
  {
   "cell_type": "markdown",
   "id": "00bdf008",
   "metadata": {},
   "source": [
    "To predict **price**, it's shown that **income** and **age** are the highest contributors. Surprisingly, **gender** is not as important, although we previously saw some correlation in them. Our boolean attributes are all set to 0, as they should be because the values will be the same for all rows.\n",
    "\n",
    "***It answers our 3rd question, on which attributes most influence price. Income and Age are most likely to influence how much someone spends at Starbucks.***"
   ]
  },
  {
   "cell_type": "markdown",
   "id": "d0c1fa80",
   "metadata": {},
   "source": [
    "#### *Improving the work*\n",
    "\n",
    "We obtained good results with our model after tuning it with a Random Forest. However, there are some areas that could use improvement. The areas I would like to try to work on as an update to this work are:\n",
    "\n",
    "1. Instead of relying only on Random Forests, we should compare them against a different model as well. I did use a SVM for an initial benchmark, and it showed promising results with default parameters. This model should have been fine tuned using a Grid Search, to try out different types of kernels, both polynomial and RBF. A non-linear kernel makes more sense for this type of data because there are a lot of numerical attributes.\n",
    "\n",
    "2. We can make the Status value of auser's response to an offer more granular. The values we obtained are weather a user has viewed, or not viewed an offer, while completing it. There is more information that is availabile in the transcript, such as if the offer was not completed at all, but started. The number of transactions related to an offer could be binned and also separated into individual columns.\n",
    "\n",
    "2. We could also look at the value of status and see how different demographics relate to it. This could be done by using a supervised learning model to try to train on learning the Status value. To train such a model, we have a lot of available data, because we would be using the transcript records, which would be coupled with information from both profile (demographics) and portfolio (offer details)."
   ]
  },
  {
   "cell_type": "markdown",
   "id": "982edb45",
   "metadata": {},
   "source": [
    "### Deploying\n",
    "\n",
    "The code in the Jupyter Notebook will be posted on GitHub, with a ReadMe file to provide information on how to run the code locally."
   ]
  },
  {
   "cell_type": "markdown",
   "id": "e32e196a",
   "metadata": {},
   "source": [
    "In our Data Analysis, we answered three questions that we set out to explore with the Starbucks Transactions dataset.\n",
    "\n",
    "1. Gender does influence how much a person spends at Starbucks. While Men tend to have more purchases, Women tend to make more expensive purchases. On average, women spend around $6 more per purchase at Starbucks.\n",
    "\n",
    "2. A significant portion of members do view and complete offers at Starbucks. Based on the dataset, 25% of individuals actually receive, view, and complete the offers by making purchases associated with the offer. Furthermore, 10% of individuals complete offers without actually viewing them first, completing them unintentionally.\n",
    "\n",
    "3. The attributes that most contribute to how much someone spends at Starbucks are Income and Age. While there are other contributing factors, such as Gender (as we saw previously), Income is the highest influencer with over 55% importance when trying to predict the price of a coffee.\n",
    "\n",
    "These are very interesting findings, and with the data we cleaned and processed, we can use them to look at many other trends. With this data, \n",
    "\n",
    "*How would YOU use it to answer your own questions about Starbucks Purchases?*"
   ]
  }
 ],
 "metadata": {
  "kernelspec": {
   "display_name": "Python 3",
   "language": "python",
   "name": "python3"
  },
  "language_info": {
   "codemirror_mode": {
    "name": "ipython",
    "version": 3
   },
   "file_extension": ".py",
   "mimetype": "text/x-python",
   "name": "python",
   "nbconvert_exporter": "python",
   "pygments_lexer": "ipython3",
   "version": "3.8.8"
  }
 },
 "nbformat": 4,
 "nbformat_minor": 5
}
